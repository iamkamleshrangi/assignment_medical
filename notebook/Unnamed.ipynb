{
 "cells": [
  {
   "cell_type": "code",
   "execution_count": 1,
   "id": "9acd8786",
   "metadata": {},
   "outputs": [],
   "source": [
    "# Import of the library and loading of the data\n",
    "import pandas as pd\n",
    "from matplotlib import pyplot as plt\n",
    "from datetime import datetime\n",
    "from datetime import datetime, timedelta\n",
    "from datetime import date\n",
    "pd.options.mode.chained_assignment = None \n",
    "\n",
    "df = pd.read_csv('../data/Surgery_Data.csv')"
   ]
  },
  {
   "cell_type": "code",
   "execution_count": 2,
   "id": "e233ea2e",
   "metadata": {},
   "outputs": [],
   "source": [
    "# Getting the date column fix, with extreme and corection in the dataset\n",
    "def get_data(data):\n",
    "    if isinstance(data, str):\n",
    "        return data.split(' ')[0]\n",
    "    return data\n",
    "\n",
    "df['PREAUTH_DATE'] = pd.to_datetime(df['PREAUTH_DATE'].apply(get_data),format='%d/%m/%Y')\n",
    "df['CLAIM_DATE'] = pd.to_datetime(df['CLAIM_DATE'].apply(get_data),format='%d/%m/%Y')\n",
    "df['DISCHARGE_DATE'] = pd.to_datetime(df['DISCHARGE_DATE'].apply(get_data),format='%d/%m/%Y', errors = 'coerce')\n",
    "df['SURGERY_DATE'] = pd.to_datetime(df['SURGERY_DATE'].apply(get_data),format='%d/%m/%Y')\n",
    "df['MORTALITY_DATE'] = pd.to_datetime(df['MORTALITY_DATE'].apply(get_data),format='%d/%m/%Y')\n",
    "\n",
    "df['MORTALITY_DATE'].fillna(value=pd.to_datetime('2000-01-01'), inplace=True) "
   ]
  },
  {
   "cell_type": "code",
   "execution_count": 3,
   "id": "4011294c",
   "metadata": {},
   "outputs": [
    {
     "data": {
      "text/html": [
       "<div>\n",
       "<style scoped>\n",
       "    .dataframe tbody tr th:only-of-type {\n",
       "        vertical-align: middle;\n",
       "    }\n",
       "\n",
       "    .dataframe tbody tr th {\n",
       "        vertical-align: top;\n",
       "    }\n",
       "\n",
       "    .dataframe thead th {\n",
       "        text-align: right;\n",
       "    }\n",
       "</style>\n",
       "<table border=\"1\" class=\"dataframe\">\n",
       "  <thead>\n",
       "    <tr style=\"text-align: right;\">\n",
       "      <th></th>\n",
       "      <th>PREAUTH_DATE</th>\n",
       "      <th>CLAIM_DATE</th>\n",
       "      <th>DISCHARGE_DATE</th>\n",
       "      <th>MORTALITY_DATE</th>\n",
       "      <th>SURGERY_DATE</th>\n",
       "    </tr>\n",
       "  </thead>\n",
       "  <tbody>\n",
       "    <tr>\n",
       "      <th>0</th>\n",
       "      <td>2013-08-03</td>\n",
       "      <td>2017-03-22</td>\n",
       "      <td>2013-09-07</td>\n",
       "      <td>2000-01-01</td>\n",
       "      <td>2013-08-06</td>\n",
       "    </tr>\n",
       "    <tr>\n",
       "      <th>1</th>\n",
       "      <td>2013-08-06</td>\n",
       "      <td>2017-03-22</td>\n",
       "      <td>2013-09-09</td>\n",
       "      <td>2000-01-01</td>\n",
       "      <td>2013-08-08</td>\n",
       "    </tr>\n",
       "    <tr>\n",
       "      <th>2</th>\n",
       "      <td>2013-08-09</td>\n",
       "      <td>2017-03-22</td>\n",
       "      <td>2013-10-18</td>\n",
       "      <td>2000-01-01</td>\n",
       "      <td>2013-08-15</td>\n",
       "    </tr>\n",
       "    <tr>\n",
       "      <th>3</th>\n",
       "      <td>2013-08-24</td>\n",
       "      <td>2017-03-22</td>\n",
       "      <td>2013-09-27</td>\n",
       "      <td>2000-01-01</td>\n",
       "      <td>2013-08-24</td>\n",
       "    </tr>\n",
       "    <tr>\n",
       "      <th>4</th>\n",
       "      <td>2013-08-28</td>\n",
       "      <td>2017-03-22</td>\n",
       "      <td>2013-10-02</td>\n",
       "      <td>2000-01-01</td>\n",
       "      <td>2013-08-31</td>\n",
       "    </tr>\n",
       "  </tbody>\n",
       "</table>\n",
       "</div>"
      ],
      "text/plain": [
       "  PREAUTH_DATE CLAIM_DATE DISCHARGE_DATE MORTALITY_DATE SURGERY_DATE\n",
       "0   2013-08-03 2017-03-22     2013-09-07     2000-01-01   2013-08-06\n",
       "1   2013-08-06 2017-03-22     2013-09-09     2000-01-01   2013-08-08\n",
       "2   2013-08-09 2017-03-22     2013-10-18     2000-01-01   2013-08-15\n",
       "3   2013-08-24 2017-03-22     2013-09-27     2000-01-01   2013-08-24\n",
       "4   2013-08-28 2017-03-22     2013-10-02     2000-01-01   2013-08-31"
      ]
     },
     "execution_count": 3,
     "metadata": {},
     "output_type": "execute_result"
    }
   ],
   "source": [
    "# df['PREAUTH_DATE'].unique() '3/8/2013 20:38'\n",
    "#df['CLAIM_DATE'].unique() 22/03/2017 20:25:18\n",
    "#df['DISCHARGE_DATE'].unique() 7/9/2013 0:00\n",
    "#df['MORTALITY_DATE'].unique() 23/05/2014 00:00:00\n",
    "df[['PREAUTH_DATE','CLAIM_DATE','DISCHARGE_DATE','MORTALITY_DATE','SURGERY_DATE']].head()"
   ]
  },
  {
   "cell_type": "code",
   "execution_count": 4,
   "id": "5855447b",
   "metadata": {},
   "outputs": [
    {
     "data": {
      "text/plain": [
       "Index(['Patient_ID', 'AGE', 'SEX', 'CATEGORY_CODE', 'CATEGORY_NAME',\n",
       "       'SURGERY_CODE', 'SURGERY', 'VILLAGE', 'DISTRICT_NAME', 'PREAUTH_DATE',\n",
       "       'PREAUTH_AMT', 'CLAIM_DATE', 'CLAIM_AMOUNT', 'HOSP_TYPE', 'HOSP_NAME',\n",
       "       'HOSP_LOCATION', 'HOSP_DISTRICT', 'SURGERY_DATE', 'DISCHARGE_DATE',\n",
       "       'Mortality Y / N', 'MORTALITY_DATE', 'SRC_REGISTRATION'],\n",
       "      dtype='object')"
      ]
     },
     "execution_count": 4,
     "metadata": {},
     "output_type": "execute_result"
    }
   ],
   "source": [
    "df.columns"
   ]
  },
  {
   "cell_type": "code",
   "execution_count": 5,
   "id": "598d7cd4",
   "metadata": {},
   "outputs": [
    {
     "data": {
      "text/plain": [
       "Patient_ID           0\n",
       "AGE                  0\n",
       "SEX                  0\n",
       "CATEGORY_CODE        0\n",
       "CATEGORY_NAME        0\n",
       "SURGERY_CODE         0\n",
       "SURGERY              0\n",
       "VILLAGE              0\n",
       "DISTRICT_NAME        0\n",
       "PREAUTH_DATE         0\n",
       "PREAUTH_AMT          0\n",
       "CLAIM_DATE           0\n",
       "CLAIM_AMOUNT         0\n",
       "HOSP_TYPE            1\n",
       "HOSP_NAME            0\n",
       "HOSP_LOCATION        0\n",
       "HOSP_DISTRICT        0\n",
       "SURGERY_DATE         0\n",
       "DISCHARGE_DATE      88\n",
       "Mortality Y / N      0\n",
       "MORTALITY_DATE       0\n",
       "SRC_REGISTRATION     1\n",
       "dtype: int64"
      ]
     },
     "execution_count": 5,
     "metadata": {},
     "output_type": "execute_result"
    }
   ],
   "source": [
    "df.isnull().sum()"
   ]
  },
  {
   "cell_type": "code",
   "execution_count": 6,
   "id": "636ca5bb",
   "metadata": {},
   "outputs": [
    {
     "data": {
      "text/html": [
       "<div>\n",
       "<style scoped>\n",
       "    .dataframe tbody tr th:only-of-type {\n",
       "        vertical-align: middle;\n",
       "    }\n",
       "\n",
       "    .dataframe tbody tr th {\n",
       "        vertical-align: top;\n",
       "    }\n",
       "\n",
       "    .dataframe thead th {\n",
       "        text-align: right;\n",
       "    }\n",
       "</style>\n",
       "<table border=\"1\" class=\"dataframe\">\n",
       "  <thead>\n",
       "    <tr style=\"text-align: right;\">\n",
       "      <th></th>\n",
       "      <th>Patient_ID</th>\n",
       "      <th>AGE</th>\n",
       "      <th>SEX</th>\n",
       "      <th>CATEGORY_CODE</th>\n",
       "      <th>CATEGORY_NAME</th>\n",
       "      <th>SURGERY_CODE</th>\n",
       "      <th>SURGERY</th>\n",
       "      <th>VILLAGE</th>\n",
       "      <th>DISTRICT_NAME</th>\n",
       "      <th>PREAUTH_DATE</th>\n",
       "      <th>...</th>\n",
       "      <th>CLAIM_AMOUNT</th>\n",
       "      <th>HOSP_TYPE</th>\n",
       "      <th>HOSP_NAME</th>\n",
       "      <th>HOSP_LOCATION</th>\n",
       "      <th>HOSP_DISTRICT</th>\n",
       "      <th>SURGERY_DATE</th>\n",
       "      <th>DISCHARGE_DATE</th>\n",
       "      <th>Mortality Y / N</th>\n",
       "      <th>MORTALITY_DATE</th>\n",
       "      <th>SRC_REGISTRATION</th>\n",
       "    </tr>\n",
       "  </thead>\n",
       "  <tbody>\n",
       "    <tr>\n",
       "      <th>89999</th>\n",
       "      <td>90000</td>\n",
       "      <td>48</td>\n",
       "      <td>Female</td>\n",
       "      <td>S12</td>\n",
       "      <td>MEDICAL ONCOLOGY</td>\n",
       "      <td>S12.2.1</td>\n",
       "      <td>Chemotherapy for Cervical Cancer with Weekly C...</td>\n",
       "      <td>Mukkellapadu</td>\n",
       "      <td>Guntur</td>\n",
       "      <td>2016-11-03</td>\n",
       "      <td>...</td>\n",
       "      <td>2000</td>\n",
       "      <td>NaN</td>\n",
       "      <td>Guntur Cancer Care Centre Limited</td>\n",
       "      <td>GUNTUR</td>\n",
       "      <td>Guntur</td>\n",
       "      <td>2016-11-04</td>\n",
       "      <td>2016-11-05</td>\n",
       "      <td>NO</td>\n",
       "      <td>2000-01-01</td>\n",
       "      <td>NaN</td>\n",
       "    </tr>\n",
       "  </tbody>\n",
       "</table>\n",
       "<p>1 rows × 22 columns</p>\n",
       "</div>"
      ],
      "text/plain": [
       "       Patient_ID  AGE     SEX CATEGORY_CODE     CATEGORY_NAME SURGERY_CODE  \\\n",
       "89999       90000   48  Female           S12  MEDICAL ONCOLOGY      S12.2.1   \n",
       "\n",
       "                                                 SURGERY       VILLAGE  \\\n",
       "89999  Chemotherapy for Cervical Cancer with Weekly C...  Mukkellapadu   \n",
       "\n",
       "      DISTRICT_NAME PREAUTH_DATE  ...  CLAIM_AMOUNT HOSP_TYPE  \\\n",
       "89999        Guntur   2016-11-03  ...          2000       NaN   \n",
       "\n",
       "                               HOSP_NAME HOSP_LOCATION HOSP_DISTRICT  \\\n",
       "89999  Guntur Cancer Care Centre Limited        GUNTUR        Guntur   \n",
       "\n",
       "      SURGERY_DATE DISCHARGE_DATE Mortality Y / N MORTALITY_DATE  \\\n",
       "89999   2016-11-04     2016-11-05              NO     2000-01-01   \n",
       "\n",
       "      SRC_REGISTRATION  \n",
       "89999              NaN  \n",
       "\n",
       "[1 rows x 22 columns]"
      ]
     },
     "execution_count": 6,
     "metadata": {},
     "output_type": "execute_result"
    }
   ],
   "source": [
    "df[df['HOSP_TYPE'].isnull()]"
   ]
  },
  {
   "cell_type": "code",
   "execution_count": 7,
   "id": "42d29853",
   "metadata": {},
   "outputs": [],
   "source": [
    "df['HOSP_TYPE'].loc[(df['HOSP_TYPE'].isnull())] = '0'"
   ]
  },
  {
   "cell_type": "code",
   "execution_count": 8,
   "id": "2ffcea10",
   "metadata": {},
   "outputs": [
    {
     "data": {
      "text/plain": [
       "array(['G', 'C', '0'], dtype=object)"
      ]
     },
     "execution_count": 8,
     "metadata": {},
     "output_type": "execute_result"
    }
   ],
   "source": [
    "# fill the value of the null to other as 'O'\n",
    "df['HOSP_TYPE'].unique()"
   ]
  },
  {
   "cell_type": "code",
   "execution_count": 9,
   "id": "ff98a831",
   "metadata": {},
   "outputs": [
    {
     "data": {
      "text/plain": [
       "Index(['DISCHARGE_DATE', 'SRC_REGISTRATION'], dtype='object')"
      ]
     },
     "execution_count": 9,
     "metadata": {},
     "output_type": "execute_result"
    }
   ],
   "source": [
    "# Remaining colums to treat\n",
    "df.columns[df.isnull().mean()>0]"
   ]
  },
  {
   "cell_type": "code",
   "execution_count": 10,
   "id": "219dfa1f",
   "metadata": {},
   "outputs": [
    {
     "data": {
      "text/plain": [
       "array(['D', 'P', 'MC', 'CMO', nan], dtype=object)"
      ]
     },
     "execution_count": 10,
     "metadata": {},
     "output_type": "execute_result"
    }
   ],
   "source": [
    "df['SRC_REGISTRATION'].unique()"
   ]
  },
  {
   "cell_type": "code",
   "execution_count": 11,
   "id": "ccecded2",
   "metadata": {},
   "outputs": [],
   "source": [
    "df['SRC_REGISTRATION'].loc[(df['SRC_REGISTRATION'].isnull())] = '0'"
   ]
  },
  {
   "cell_type": "code",
   "execution_count": 12,
   "id": "a24b3e63",
   "metadata": {},
   "outputs": [
    {
     "data": {
      "text/plain": [
       "Index(['DISCHARGE_DATE'], dtype='object')"
      ]
     },
     "execution_count": 12,
     "metadata": {},
     "output_type": "execute_result"
    }
   ],
   "source": [
    "# Remaining colums to treat\n",
    "df.columns[df.isnull().mean()>0]"
   ]
  },
  {
   "cell_type": "code",
   "execution_count": 13,
   "id": "0cc5f659",
   "metadata": {},
   "outputs": [
    {
     "data": {
      "text/html": [
       "<div>\n",
       "<style scoped>\n",
       "    .dataframe tbody tr th:only-of-type {\n",
       "        vertical-align: middle;\n",
       "    }\n",
       "\n",
       "    .dataframe tbody tr th {\n",
       "        vertical-align: top;\n",
       "    }\n",
       "\n",
       "    .dataframe thead th {\n",
       "        text-align: right;\n",
       "    }\n",
       "</style>\n",
       "<table border=\"1\" class=\"dataframe\">\n",
       "  <thead>\n",
       "    <tr style=\"text-align: right;\">\n",
       "      <th></th>\n",
       "      <th>Patient_ID</th>\n",
       "      <th>AGE</th>\n",
       "      <th>SEX</th>\n",
       "      <th>CATEGORY_CODE</th>\n",
       "      <th>CATEGORY_NAME</th>\n",
       "      <th>SURGERY_CODE</th>\n",
       "      <th>SURGERY</th>\n",
       "      <th>VILLAGE</th>\n",
       "      <th>DISTRICT_NAME</th>\n",
       "      <th>PREAUTH_DATE</th>\n",
       "      <th>...</th>\n",
       "      <th>CLAIM_AMOUNT</th>\n",
       "      <th>HOSP_TYPE</th>\n",
       "      <th>HOSP_NAME</th>\n",
       "      <th>HOSP_LOCATION</th>\n",
       "      <th>HOSP_DISTRICT</th>\n",
       "      <th>SURGERY_DATE</th>\n",
       "      <th>DISCHARGE_DATE</th>\n",
       "      <th>Mortality Y / N</th>\n",
       "      <th>MORTALITY_DATE</th>\n",
       "      <th>SRC_REGISTRATION</th>\n",
       "    </tr>\n",
       "  </thead>\n",
       "  <tbody>\n",
       "    <tr>\n",
       "      <th>7</th>\n",
       "      <td>8</td>\n",
       "      <td>73</td>\n",
       "      <td>Male</td>\n",
       "      <td>M6</td>\n",
       "      <td>NEPHROLOGY</td>\n",
       "      <td>M6.5</td>\n",
       "      <td>Maintenance Hemodialysis For Crf</td>\n",
       "      <td>Bhoghapuram</td>\n",
       "      <td>Vizianagaram</td>\n",
       "      <td>2014-05-02</td>\n",
       "      <td>...</td>\n",
       "      <td>5000</td>\n",
       "      <td>C</td>\n",
       "      <td>Queens Nri Hospitals</td>\n",
       "      <td>Visakhapatnam</td>\n",
       "      <td>Vishakhapatnam</td>\n",
       "      <td>2014-05-05</td>\n",
       "      <td>NaT</td>\n",
       "      <td>YES</td>\n",
       "      <td>2014-05-23</td>\n",
       "      <td>D</td>\n",
       "    </tr>\n",
       "  </tbody>\n",
       "</table>\n",
       "<p>1 rows × 22 columns</p>\n",
       "</div>"
      ],
      "text/plain": [
       "   Patient_ID  AGE   SEX CATEGORY_CODE CATEGORY_NAME SURGERY_CODE  \\\n",
       "7           8   73  Male            M6    NEPHROLOGY         M6.5   \n",
       "\n",
       "                            SURGERY      VILLAGE DISTRICT_NAME PREAUTH_DATE  \\\n",
       "7  Maintenance Hemodialysis For Crf  Bhoghapuram  Vizianagaram   2014-05-02   \n",
       "\n",
       "   ...  CLAIM_AMOUNT HOSP_TYPE             HOSP_NAME  HOSP_LOCATION  \\\n",
       "7  ...          5000         C  Queens Nri Hospitals  Visakhapatnam   \n",
       "\n",
       "    HOSP_DISTRICT SURGERY_DATE DISCHARGE_DATE Mortality Y / N MORTALITY_DATE  \\\n",
       "7  Vishakhapatnam   2014-05-05            NaT             YES     2014-05-23   \n",
       "\n",
       "  SRC_REGISTRATION  \n",
       "7                D  \n",
       "\n",
       "[1 rows x 22 columns]"
      ]
     },
     "execution_count": 13,
     "metadata": {},
     "output_type": "execute_result"
    }
   ],
   "source": [
    "df[df['DISCHARGE_DATE'].isnull()].head(1)"
   ]
  },
  {
   "cell_type": "code",
   "execution_count": 14,
   "id": "e9e7a417",
   "metadata": {},
   "outputs": [
    {
     "data": {
      "text/plain": [
       "Index(['Patient_ID', 'AGE', 'SEX', 'CATEGORY_CODE', 'CATEGORY_NAME',\n",
       "       'SURGERY_CODE', 'SURGERY', 'VILLAGE', 'DISTRICT_NAME', 'PREAUTH_DATE',\n",
       "       'PREAUTH_AMT', 'CLAIM_DATE', 'CLAIM_AMOUNT', 'HOSP_TYPE', 'HOSP_NAME',\n",
       "       'HOSP_LOCATION', 'HOSP_DISTRICT', 'SURGERY_DATE', 'DISCHARGE_DATE',\n",
       "       'Mortality Y / N', 'MORTALITY_DATE', 'SRC_REGISTRATION'],\n",
       "      dtype='object')"
      ]
     },
     "execution_count": 14,
     "metadata": {},
     "output_type": "execute_result"
    }
   ],
   "source": [
    "df.columns"
   ]
  },
  {
   "cell_type": "code",
   "execution_count": 15,
   "id": "09eb02fe",
   "metadata": {},
   "outputs": [],
   "source": [
    "tmp = df[df['SURGERY_DATE'].notnull() & df['DISCHARGE_DATE'].notnull()]"
   ]
  },
  {
   "cell_type": "code",
   "execution_count": 16,
   "id": "7b4da87d",
   "metadata": {},
   "outputs": [],
   "source": [
    "tmp['diff'] = pd.to_datetime(tmp.DISCHARGE_DATE) - pd.to_datetime(tmp.SURGERY_DATE)"
   ]
  },
  {
   "cell_type": "code",
   "execution_count": 17,
   "id": "91144dec",
   "metadata": {},
   "outputs": [
    {
     "data": {
      "text/html": [
       "<div>\n",
       "<style scoped>\n",
       "    .dataframe tbody tr th:only-of-type {\n",
       "        vertical-align: middle;\n",
       "    }\n",
       "\n",
       "    .dataframe tbody tr th {\n",
       "        vertical-align: top;\n",
       "    }\n",
       "\n",
       "    .dataframe thead th {\n",
       "        text-align: right;\n",
       "    }\n",
       "</style>\n",
       "<table border=\"1\" class=\"dataframe\">\n",
       "  <thead>\n",
       "    <tr style=\"text-align: right;\">\n",
       "      <th></th>\n",
       "      <th>Patient_ID</th>\n",
       "      <th>AGE</th>\n",
       "      <th>SEX</th>\n",
       "      <th>CATEGORY_CODE</th>\n",
       "      <th>CATEGORY_NAME</th>\n",
       "      <th>SURGERY_CODE</th>\n",
       "      <th>SURGERY</th>\n",
       "      <th>VILLAGE</th>\n",
       "      <th>DISTRICT_NAME</th>\n",
       "      <th>PREAUTH_DATE</th>\n",
       "      <th>...</th>\n",
       "      <th>HOSP_TYPE</th>\n",
       "      <th>HOSP_NAME</th>\n",
       "      <th>HOSP_LOCATION</th>\n",
       "      <th>HOSP_DISTRICT</th>\n",
       "      <th>SURGERY_DATE</th>\n",
       "      <th>DISCHARGE_DATE</th>\n",
       "      <th>Mortality Y / N</th>\n",
       "      <th>MORTALITY_DATE</th>\n",
       "      <th>SRC_REGISTRATION</th>\n",
       "      <th>diff</th>\n",
       "    </tr>\n",
       "  </thead>\n",
       "  <tbody>\n",
       "    <tr>\n",
       "      <th>87</th>\n",
       "      <td>88</td>\n",
       "      <td>58</td>\n",
       "      <td>Male</td>\n",
       "      <td>M6</td>\n",
       "      <td>NEPHROLOGY</td>\n",
       "      <td>M6.5</td>\n",
       "      <td>Maintenance Hemodialysis For Crf</td>\n",
       "      <td>Padamati Kambhampadu</td>\n",
       "      <td>Nellore</td>\n",
       "      <td>2015-03-06</td>\n",
       "      <td>...</td>\n",
       "      <td>C</td>\n",
       "      <td>ABHIRAM INSTITUTE OF MEDICAL SCIENCES</td>\n",
       "      <td>NELLORE</td>\n",
       "      <td>Nellore</td>\n",
       "      <td>2015-03-07</td>\n",
       "      <td>2016-11-04</td>\n",
       "      <td>NO</td>\n",
       "      <td>2000-01-01</td>\n",
       "      <td>D</td>\n",
       "      <td>608 days</td>\n",
       "    </tr>\n",
       "  </tbody>\n",
       "</table>\n",
       "<p>1 rows × 23 columns</p>\n",
       "</div>"
      ],
      "text/plain": [
       "    Patient_ID  AGE   SEX CATEGORY_CODE CATEGORY_NAME SURGERY_CODE  \\\n",
       "87          88   58  Male            M6    NEPHROLOGY         M6.5   \n",
       "\n",
       "                             SURGERY               VILLAGE DISTRICT_NAME  \\\n",
       "87  Maintenance Hemodialysis For Crf  Padamati Kambhampadu       Nellore   \n",
       "\n",
       "   PREAUTH_DATE  ...  HOSP_TYPE                              HOSP_NAME  \\\n",
       "87   2015-03-06  ...          C  ABHIRAM INSTITUTE OF MEDICAL SCIENCES   \n",
       "\n",
       "    HOSP_LOCATION HOSP_DISTRICT SURGERY_DATE DISCHARGE_DATE Mortality Y / N  \\\n",
       "87        NELLORE       Nellore   2015-03-07     2016-11-04              NO   \n",
       "\n",
       "   MORTALITY_DATE SRC_REGISTRATION     diff  \n",
       "87     2000-01-01                D 608 days  \n",
       "\n",
       "[1 rows x 23 columns]"
      ]
     },
     "execution_count": 17,
     "metadata": {},
     "output_type": "execute_result"
    }
   ],
   "source": [
    "#tmp[tmp['diff']>=-320]\n",
    "tmp[tmp['diff'] > timedelta(days=600)].head(1)"
   ]
  },
  {
   "cell_type": "code",
   "execution_count": 18,
   "id": "bbe2c807",
   "metadata": {},
   "outputs": [
    {
     "data": {
      "text/html": [
       "<div>\n",
       "<style scoped>\n",
       "    .dataframe tbody tr th:only-of-type {\n",
       "        vertical-align: middle;\n",
       "    }\n",
       "\n",
       "    .dataframe tbody tr th {\n",
       "        vertical-align: top;\n",
       "    }\n",
       "\n",
       "    .dataframe thead th {\n",
       "        text-align: right;\n",
       "    }\n",
       "</style>\n",
       "<table border=\"1\" class=\"dataframe\">\n",
       "  <thead>\n",
       "    <tr style=\"text-align: right;\">\n",
       "      <th></th>\n",
       "      <th>Patient_ID</th>\n",
       "      <th>AGE</th>\n",
       "      <th>SEX</th>\n",
       "      <th>CATEGORY_CODE</th>\n",
       "      <th>CATEGORY_NAME</th>\n",
       "      <th>SURGERY_CODE</th>\n",
       "      <th>SURGERY</th>\n",
       "      <th>VILLAGE</th>\n",
       "      <th>DISTRICT_NAME</th>\n",
       "      <th>PREAUTH_DATE</th>\n",
       "      <th>...</th>\n",
       "      <th>HOSP_TYPE</th>\n",
       "      <th>HOSP_NAME</th>\n",
       "      <th>HOSP_LOCATION</th>\n",
       "      <th>HOSP_DISTRICT</th>\n",
       "      <th>SURGERY_DATE</th>\n",
       "      <th>DISCHARGE_DATE</th>\n",
       "      <th>Mortality Y / N</th>\n",
       "      <th>MORTALITY_DATE</th>\n",
       "      <th>SRC_REGISTRATION</th>\n",
       "      <th>diff</th>\n",
       "    </tr>\n",
       "  </thead>\n",
       "  <tbody>\n",
       "    <tr>\n",
       "      <th>134</th>\n",
       "      <td>135</td>\n",
       "      <td>0</td>\n",
       "      <td>Female(Child)</td>\n",
       "      <td>M4</td>\n",
       "      <td>PEDIATRICS</td>\n",
       "      <td>M4.1.6</td>\n",
       "      <td>Medical management of Preterm baby of 33 To 34...</td>\n",
       "      <td>Ananthapuram</td>\n",
       "      <td>YSR Kadapa</td>\n",
       "      <td>2015-06-29</td>\n",
       "      <td>...</td>\n",
       "      <td>G</td>\n",
       "      <td>Rims General Hospital</td>\n",
       "      <td>KADAPA</td>\n",
       "      <td>YSR Kadapa</td>\n",
       "      <td>2015-06-29</td>\n",
       "      <td>2015-06-29</td>\n",
       "      <td>YES</td>\n",
       "      <td>2015-06-29</td>\n",
       "      <td>D</td>\n",
       "      <td>0 days</td>\n",
       "    </tr>\n",
       "    <tr>\n",
       "      <th>140</th>\n",
       "      <td>141</td>\n",
       "      <td>35</td>\n",
       "      <td>Male</td>\n",
       "      <td>S13</td>\n",
       "      <td>RADIATION ONCOLOGY</td>\n",
       "      <td>S13.2.1</td>\n",
       "      <td>Radical Treatment With Photons External Beam R...</td>\n",
       "      <td>Vidavalur</td>\n",
       "      <td>Nellore</td>\n",
       "      <td>2015-07-08</td>\n",
       "      <td>...</td>\n",
       "      <td>G</td>\n",
       "      <td>M.N.J.Hospitals</td>\n",
       "      <td>HYDERABAD</td>\n",
       "      <td>Hyderabad</td>\n",
       "      <td>2017-01-21</td>\n",
       "      <td>2017-01-21</td>\n",
       "      <td>NO</td>\n",
       "      <td>2000-01-01</td>\n",
       "      <td>CMO</td>\n",
       "      <td>0 days</td>\n",
       "    </tr>\n",
       "    <tr>\n",
       "      <th>155</th>\n",
       "      <td>156</td>\n",
       "      <td>50</td>\n",
       "      <td>Male</td>\n",
       "      <td>M12</td>\n",
       "      <td>GASTROENTEROLOGY</td>\n",
       "      <td>M12.13</td>\n",
       "      <td>Conservative management of Chronic Pancreatiti...</td>\n",
       "      <td>Vizianagaram Bit-I</td>\n",
       "      <td>Vizianagaram</td>\n",
       "      <td>2015-07-30</td>\n",
       "      <td>...</td>\n",
       "      <td>G</td>\n",
       "      <td>King George Hospital</td>\n",
       "      <td>VISAKHAPATNAM</td>\n",
       "      <td>Vishakhapatnam</td>\n",
       "      <td>2015-08-01</td>\n",
       "      <td>2015-08-01</td>\n",
       "      <td>NO</td>\n",
       "      <td>2000-01-01</td>\n",
       "      <td>D</td>\n",
       "      <td>0 days</td>\n",
       "    </tr>\n",
       "    <tr>\n",
       "      <th>166</th>\n",
       "      <td>167</td>\n",
       "      <td>19</td>\n",
       "      <td>Female</td>\n",
       "      <td>M10</td>\n",
       "      <td>RHEUMATOLOGY</td>\n",
       "      <td>M10.1</td>\n",
       "      <td>Medical management  of SLE (Systemic Lupus Ery...</td>\n",
       "      <td>Marlava</td>\n",
       "      <td>East Godavari</td>\n",
       "      <td>2015-08-08</td>\n",
       "      <td>...</td>\n",
       "      <td>G</td>\n",
       "      <td>King George Hospital</td>\n",
       "      <td>VISAKHAPATNAM</td>\n",
       "      <td>Vishakhapatnam</td>\n",
       "      <td>2015-08-12</td>\n",
       "      <td>2015-08-12</td>\n",
       "      <td>NO</td>\n",
       "      <td>2000-01-01</td>\n",
       "      <td>D</td>\n",
       "      <td>0 days</td>\n",
       "    </tr>\n",
       "    <tr>\n",
       "      <th>169</th>\n",
       "      <td>170</td>\n",
       "      <td>14</td>\n",
       "      <td>Female(Child)</td>\n",
       "      <td>M10</td>\n",
       "      <td>RHEUMATOLOGY</td>\n",
       "      <td>M10.1</td>\n",
       "      <td>Medical management  of SLE (Systemic Lupus Ery...</td>\n",
       "      <td>Rangampeta</td>\n",
       "      <td>East Godavari</td>\n",
       "      <td>2015-08-11</td>\n",
       "      <td>...</td>\n",
       "      <td>G</td>\n",
       "      <td>King George Hospital</td>\n",
       "      <td>VISAKHAPATNAM</td>\n",
       "      <td>Vishakhapatnam</td>\n",
       "      <td>2015-08-12</td>\n",
       "      <td>2015-08-12</td>\n",
       "      <td>NO</td>\n",
       "      <td>2000-01-01</td>\n",
       "      <td>D</td>\n",
       "      <td>0 days</td>\n",
       "    </tr>\n",
       "    <tr>\n",
       "      <th>...</th>\n",
       "      <td>...</td>\n",
       "      <td>...</td>\n",
       "      <td>...</td>\n",
       "      <td>...</td>\n",
       "      <td>...</td>\n",
       "      <td>...</td>\n",
       "      <td>...</td>\n",
       "      <td>...</td>\n",
       "      <td>...</td>\n",
       "      <td>...</td>\n",
       "      <td>...</td>\n",
       "      <td>...</td>\n",
       "      <td>...</td>\n",
       "      <td>...</td>\n",
       "      <td>...</td>\n",
       "      <td>...</td>\n",
       "      <td>...</td>\n",
       "      <td>...</td>\n",
       "      <td>...</td>\n",
       "      <td>...</td>\n",
       "      <td>...</td>\n",
       "    </tr>\n",
       "    <tr>\n",
       "      <th>89965</th>\n",
       "      <td>89966</td>\n",
       "      <td>1</td>\n",
       "      <td>Female(Child)</td>\n",
       "      <td>M4</td>\n",
       "      <td>PEDIATRICS</td>\n",
       "      <td>M4.2.1.3</td>\n",
       "      <td>Medical Management of Severe Bronchopneumon ia...</td>\n",
       "      <td>Nandyal</td>\n",
       "      <td>Kurnool</td>\n",
       "      <td>2016-11-07</td>\n",
       "      <td>...</td>\n",
       "      <td>G</td>\n",
       "      <td>District Hospital - Nandyal</td>\n",
       "      <td>Kurnool</td>\n",
       "      <td>Kurnool</td>\n",
       "      <td>2016-11-07</td>\n",
       "      <td>2016-11-07</td>\n",
       "      <td>NO</td>\n",
       "      <td>2000-01-01</td>\n",
       "      <td>D</td>\n",
       "      <td>0 days</td>\n",
       "    </tr>\n",
       "    <tr>\n",
       "      <th>89975</th>\n",
       "      <td>89976</td>\n",
       "      <td>18</td>\n",
       "      <td>Male</td>\n",
       "      <td>S12</td>\n",
       "      <td>MEDICAL ONCOLOGY</td>\n",
       "      <td>S12.27.1.3</td>\n",
       "      <td>Chemotherapy for Acute Lymphoblastic Leukemia ...</td>\n",
       "      <td>Kapileswarapuram</td>\n",
       "      <td>East Godavari</td>\n",
       "      <td>2016-11-04</td>\n",
       "      <td>...</td>\n",
       "      <td>G</td>\n",
       "      <td>M.N.J.Hospitals</td>\n",
       "      <td>HYDERABAD</td>\n",
       "      <td>Hyderabad</td>\n",
       "      <td>2016-11-04</td>\n",
       "      <td>2016-11-04</td>\n",
       "      <td>NO</td>\n",
       "      <td>2000-01-01</td>\n",
       "      <td>D</td>\n",
       "      <td>0 days</td>\n",
       "    </tr>\n",
       "    <tr>\n",
       "      <th>89981</th>\n",
       "      <td>89982</td>\n",
       "      <td>63</td>\n",
       "      <td>Male</td>\n",
       "      <td>S12</td>\n",
       "      <td>MEDICAL ONCOLOGY</td>\n",
       "      <td>S12.28.1</td>\n",
       "      <td>Palliative Chemotherapy for unlisted Regimen</td>\n",
       "      <td>12th Ward</td>\n",
       "      <td>Chittoor</td>\n",
       "      <td>2016-11-08</td>\n",
       "      <td>...</td>\n",
       "      <td>G</td>\n",
       "      <td>Sri Venkateswara Institute Of Medical Sciences</td>\n",
       "      <td>TIRUPATHI</td>\n",
       "      <td>Chittoor</td>\n",
       "      <td>2016-11-10</td>\n",
       "      <td>2016-11-10</td>\n",
       "      <td>NO</td>\n",
       "      <td>2000-01-01</td>\n",
       "      <td>D</td>\n",
       "      <td>0 days</td>\n",
       "    </tr>\n",
       "    <tr>\n",
       "      <th>89985</th>\n",
       "      <td>89986</td>\n",
       "      <td>60</td>\n",
       "      <td>Female</td>\n",
       "      <td>S12</td>\n",
       "      <td>MEDICAL ONCOLOGY</td>\n",
       "      <td>S12.2.1</td>\n",
       "      <td>Chemotherapy for Cervical Cancer with Weekly C...</td>\n",
       "      <td>Dandigunta</td>\n",
       "      <td>Nellore</td>\n",
       "      <td>2016-11-04</td>\n",
       "      <td>...</td>\n",
       "      <td>C</td>\n",
       "      <td>Ircs Cancer Hospital Indian Red Cross Society ...</td>\n",
       "      <td>NELLORE</td>\n",
       "      <td>Nellore</td>\n",
       "      <td>2016-11-05</td>\n",
       "      <td>2016-11-05</td>\n",
       "      <td>NO</td>\n",
       "      <td>2000-01-01</td>\n",
       "      <td>D</td>\n",
       "      <td>0 days</td>\n",
       "    </tr>\n",
       "    <tr>\n",
       "      <th>89986</th>\n",
       "      <td>89987</td>\n",
       "      <td>35</td>\n",
       "      <td>Female</td>\n",
       "      <td>S13</td>\n",
       "      <td>RADIATION ONCOLOGY</td>\n",
       "      <td>S13.3.1.2</td>\n",
       "      <td>Brachytherapy Intracavitary II. Hdr Per Applic...</td>\n",
       "      <td>Korukollu</td>\n",
       "      <td>Krishna</td>\n",
       "      <td>2016-11-05</td>\n",
       "      <td>...</td>\n",
       "      <td>C</td>\n",
       "      <td>Ms Mahatma Gandhi Cancer Hospital and Research...</td>\n",
       "      <td>VISAKHAPATNAM</td>\n",
       "      <td>Vishakhapatnam</td>\n",
       "      <td>2016-11-10</td>\n",
       "      <td>2016-11-10</td>\n",
       "      <td>NO</td>\n",
       "      <td>2000-01-01</td>\n",
       "      <td>D</td>\n",
       "      <td>0 days</td>\n",
       "    </tr>\n",
       "  </tbody>\n",
       "</table>\n",
       "<p>6696 rows × 23 columns</p>\n",
       "</div>"
      ],
      "text/plain": [
       "       Patient_ID  AGE            SEX CATEGORY_CODE       CATEGORY_NAME  \\\n",
       "134           135    0  Female(Child)            M4          PEDIATRICS   \n",
       "140           141   35           Male           S13  RADIATION ONCOLOGY   \n",
       "155           156   50           Male           M12    GASTROENTEROLOGY   \n",
       "166           167   19         Female           M10        RHEUMATOLOGY   \n",
       "169           170   14  Female(Child)           M10        RHEUMATOLOGY   \n",
       "...           ...  ...            ...           ...                 ...   \n",
       "89965       89966    1  Female(Child)            M4          PEDIATRICS   \n",
       "89975       89976   18           Male           S12    MEDICAL ONCOLOGY   \n",
       "89981       89982   63           Male           S12    MEDICAL ONCOLOGY   \n",
       "89985       89986   60         Female           S12    MEDICAL ONCOLOGY   \n",
       "89986       89987   35         Female           S13  RADIATION ONCOLOGY   \n",
       "\n",
       "      SURGERY_CODE                                            SURGERY  \\\n",
       "134         M4.1.6  Medical management of Preterm baby of 33 To 34...   \n",
       "140        S13.2.1  Radical Treatment With Photons External Beam R...   \n",
       "155         M12.13  Conservative management of Chronic Pancreatiti...   \n",
       "166          M10.1  Medical management  of SLE (Systemic Lupus Ery...   \n",
       "169          M10.1  Medical management  of SLE (Systemic Lupus Ery...   \n",
       "...            ...                                                ...   \n",
       "89965     M4.2.1.3  Medical Management of Severe Bronchopneumon ia...   \n",
       "89975   S12.27.1.3  Chemotherapy for Acute Lymphoblastic Leukemia ...   \n",
       "89981     S12.28.1       Palliative Chemotherapy for unlisted Regimen   \n",
       "89985      S12.2.1  Chemotherapy for Cervical Cancer with Weekly C...   \n",
       "89986    S13.3.1.2  Brachytherapy Intracavitary II. Hdr Per Applic...   \n",
       "\n",
       "                  VILLAGE  DISTRICT_NAME PREAUTH_DATE  ...  HOSP_TYPE  \\\n",
       "134          Ananthapuram     YSR Kadapa   2015-06-29  ...          G   \n",
       "140             Vidavalur        Nellore   2015-07-08  ...          G   \n",
       "155    Vizianagaram Bit-I   Vizianagaram   2015-07-30  ...          G   \n",
       "166               Marlava  East Godavari   2015-08-08  ...          G   \n",
       "169            Rangampeta  East Godavari   2015-08-11  ...          G   \n",
       "...                   ...            ...          ...  ...        ...   \n",
       "89965             Nandyal        Kurnool   2016-11-07  ...          G   \n",
       "89975    Kapileswarapuram  East Godavari   2016-11-04  ...          G   \n",
       "89981           12th Ward       Chittoor   2016-11-08  ...          G   \n",
       "89985          Dandigunta        Nellore   2016-11-04  ...          C   \n",
       "89986           Korukollu        Krishna   2016-11-05  ...          C   \n",
       "\n",
       "                                               HOSP_NAME  HOSP_LOCATION  \\\n",
       "134                                Rims General Hospital         KADAPA   \n",
       "140                                      M.N.J.Hospitals      HYDERABAD   \n",
       "155                                 King George Hospital  VISAKHAPATNAM   \n",
       "166                                 King George Hospital  VISAKHAPATNAM   \n",
       "169                                 King George Hospital  VISAKHAPATNAM   \n",
       "...                                                  ...            ...   \n",
       "89965                        District Hospital - Nandyal        Kurnool   \n",
       "89975                                    M.N.J.Hospitals      HYDERABAD   \n",
       "89981     Sri Venkateswara Institute Of Medical Sciences      TIRUPATHI   \n",
       "89985  Ircs Cancer Hospital Indian Red Cross Society ...        NELLORE   \n",
       "89986  Ms Mahatma Gandhi Cancer Hospital and Research...  VISAKHAPATNAM   \n",
       "\n",
       "        HOSP_DISTRICT SURGERY_DATE DISCHARGE_DATE Mortality Y / N  \\\n",
       "134        YSR Kadapa   2015-06-29     2015-06-29             YES   \n",
       "140         Hyderabad   2017-01-21     2017-01-21              NO   \n",
       "155    Vishakhapatnam   2015-08-01     2015-08-01              NO   \n",
       "166    Vishakhapatnam   2015-08-12     2015-08-12              NO   \n",
       "169    Vishakhapatnam   2015-08-12     2015-08-12              NO   \n",
       "...               ...          ...            ...             ...   \n",
       "89965         Kurnool   2016-11-07     2016-11-07              NO   \n",
       "89975       Hyderabad   2016-11-04     2016-11-04              NO   \n",
       "89981        Chittoor   2016-11-10     2016-11-10              NO   \n",
       "89985         Nellore   2016-11-05     2016-11-05              NO   \n",
       "89986  Vishakhapatnam   2016-11-10     2016-11-10              NO   \n",
       "\n",
       "      MORTALITY_DATE SRC_REGISTRATION   diff  \n",
       "134       2015-06-29                D 0 days  \n",
       "140       2000-01-01              CMO 0 days  \n",
       "155       2000-01-01                D 0 days  \n",
       "166       2000-01-01                D 0 days  \n",
       "169       2000-01-01                D 0 days  \n",
       "...              ...              ...    ...  \n",
       "89965     2000-01-01                D 0 days  \n",
       "89975     2000-01-01                D 0 days  \n",
       "89981     2000-01-01                D 0 days  \n",
       "89985     2000-01-01                D 0 days  \n",
       "89986     2000-01-01                D 0 days  \n",
       "\n",
       "[6696 rows x 23 columns]"
      ]
     },
     "execution_count": 18,
     "metadata": {},
     "output_type": "execute_result"
    }
   ],
   "source": [
    "tmp[tmp['SURGERY_DATE']==tmp['DISCHARGE_DATE']]"
   ]
  },
  {
   "cell_type": "code",
   "execution_count": 19,
   "id": "22588132",
   "metadata": {},
   "outputs": [],
   "source": [
    "#df[df['DISCHARGE_DATE'].isnull()]\n",
    "#df['DISCHARGE_DATE'].min() - timedelta(days=600)\n",
    "df['DISCHARGE_DATE'].fillna(value=pd.to_datetime('2000-01-01'), inplace=True) "
   ]
  },
  {
   "cell_type": "code",
   "execution_count": 20,
   "id": "3118afb9",
   "metadata": {},
   "outputs": [],
   "source": [
    "#df[['PREAUTH_DATE','CLAIM_DATE','DISCHARGE_DATE','MORTALITY_DATE']].head()"
   ]
  },
  {
   "cell_type": "code",
   "execution_count": 21,
   "id": "aa942166",
   "metadata": {},
   "outputs": [
    {
     "data": {
      "text/plain": [
       "Patient_ID          0\n",
       "AGE                 0\n",
       "SEX                 0\n",
       "CATEGORY_CODE       0\n",
       "CATEGORY_NAME       0\n",
       "SURGERY_CODE        0\n",
       "SURGERY             0\n",
       "VILLAGE             0\n",
       "DISTRICT_NAME       0\n",
       "PREAUTH_DATE        0\n",
       "PREAUTH_AMT         0\n",
       "CLAIM_DATE          0\n",
       "CLAIM_AMOUNT        0\n",
       "HOSP_TYPE           0\n",
       "HOSP_NAME           0\n",
       "HOSP_LOCATION       0\n",
       "HOSP_DISTRICT       0\n",
       "SURGERY_DATE        0\n",
       "DISCHARGE_DATE      0\n",
       "Mortality Y / N     0\n",
       "MORTALITY_DATE      0\n",
       "SRC_REGISTRATION    0\n",
       "dtype: int64"
      ]
     },
     "execution_count": 21,
     "metadata": {},
     "output_type": "execute_result"
    }
   ],
   "source": [
    "# We have fix everything in the dataset\n",
    "df.isnull().sum()"
   ]
  },
  {
   "cell_type": "code",
   "execution_count": 49,
   "id": "87635684",
   "metadata": {},
   "outputs": [],
   "source": [
    "df['diff'] = (pd.to_datetime(cdf.DISCHARGE_DATE) - pd.to_datetime(cdf.SURGERY_DATE)).dt.days"
   ]
  },
  {
   "cell_type": "markdown",
   "id": "4ed09654",
   "metadata": {},
   "source": [
    "# Company also needs to submit report to district level hospital to show distribution of patient undergone surgeries of different category to know prevalence of disease and mortality rate in percentage based on gender. "
   ]
  },
  {
   "cell_type": "code",
   "execution_count": 22,
   "id": "4ed3511f",
   "metadata": {},
   "outputs": [],
   "source": [
    "df['Mortality_Flag'] = 0\n",
    "## not working, df['Mortality_Flag'].loc[(df['Mortality Y / N'] =='N0')] = 0\n",
    "df['Mortality_Flag'].loc[(df['Mortality Y / N'] == 'YES')] = 1\n",
    "df['percent'] = (df['Mortality_Flag']/df.groupby(['DISTRICT_NAME', 'HOSP_NAME', 'SURGERY','SEX'])['Mortality_Flag'].transform('sum'))*100\n",
    "df['percent'].loc[(df['percent'].isnull())] = 0\n",
    "\n",
    "tmp = df.groupby(['DISTRICT_NAME', 'HOSP_NAME', 'SURGERY','SEX']).agg(Mortality=('percent', 'max')).sort_values('DISTRICT_NAME')"
   ]
  },
  {
   "cell_type": "code",
   "execution_count": 23,
   "id": "e7324a6f",
   "metadata": {},
   "outputs": [],
   "source": [
    "#df[df['percent'].isnull()]\n",
    "#df['Mortality Y / N'].unique()\n",
    "#df.groupby(['DISTRICT_NAME', 'HOSP_NAME', 'SURGERY','SEX'])['Mortality_Flag'].sum()#.transform('sum')\n",
    "#df['Mortality_Flag'].unique()"
   ]
  },
  {
   "cell_type": "code",
   "execution_count": 24,
   "id": "6d306a3e",
   "metadata": {},
   "outputs": [
    {
     "data": {
      "text/plain": [
       "array([  0.        , 100.        ,  33.33333333,   5.55555556,\n",
       "        20.        ,   7.14285714,  14.28571429,  50.        ,\n",
       "         8.33333333,  25.        ,  12.5       ,  16.66666667,\n",
       "         4.54545455,   6.66666667,  11.11111111,  10.        ,\n",
       "         4.34782609,   5.88235294,   6.25      ,   2.63157895,\n",
       "         3.57142857,   2.08333333,   5.        ,   9.09090909,\n",
       "         4.76190476,   3.7037037 ,   7.69230769,   3.22580645])"
      ]
     },
     "execution_count": 24,
     "metadata": {},
     "output_type": "execute_result"
    }
   ],
   "source": [
    "tmp['Mortality'].unique()"
   ]
  },
  {
   "cell_type": "markdown",
   "id": "7ed6357c",
   "metadata": {},
   "source": [
    "## Company wants to understand duration of patient’s hospitalization stay and mortality rate for cardiology surgery across corporate and government hospital to improve quality of hospital care.\n"
   ]
  },
  {
   "cell_type": "code",
   "execution_count": 25,
   "id": "30fb7fe1",
   "metadata": {},
   "outputs": [
    {
     "data": {
      "text/plain": [
       "array(['NEPHROLOGY', 'CARDIAC AND CARDIOTHORACIC SURGERY', 'CARDIOLOGY',\n",
       "       'COCHLEAR IMPLANT SURGERY', 'ORTHOPEDIC  SURGERY AND PROCEDURES',\n",
       "       'MEDICAL ONCOLOGY', 'PEDIATRICS',\n",
       "       'GYNAECOLOGY AND OBSTETRICS  SURGERY', 'RADIATION ONCOLOGY',\n",
       "       'GENITO URINARY SURGERIES', 'NEUROLOGY', 'POLY TRAUMA',\n",
       "       'NEUROSURGERY', 'RHEUMATOLOGY', 'GENERAL SURGERY',\n",
       "       'GASTROENTEROLOGY', 'PLASTIC SURGERY', 'OPHTHALMOLOGY  SURGERY',\n",
       "       'PULMONOLOGY', 'GENERAL MEDICINE', 'CRITICAL CARE', 'ENT  SURGERY',\n",
       "       'ENDOCRINOLOGY', 'SURGICAL ONCOLOGY', 'PEDIATRIC SURGERIES',\n",
       "       'SURGICAL GASTRO ENTEROLOGY', 'DERMATOLOGY', 'PROSTHESES'],\n",
       "      dtype=object)"
      ]
     },
     "execution_count": 25,
     "metadata": {},
     "output_type": "execute_result"
    }
   ],
   "source": [
    "df.CATEGORY_NAME.unique()"
   ]
  },
  {
   "cell_type": "code",
   "execution_count": 26,
   "id": "03fe5add",
   "metadata": {},
   "outputs": [],
   "source": [
    "cdf = df[df['CATEGORY_NAME'] =='CARDIOLOGY']"
   ]
  },
  {
   "cell_type": "code",
   "execution_count": 27,
   "id": "0bfdb4da",
   "metadata": {},
   "outputs": [
    {
     "data": {
      "text/html": [
       "<div>\n",
       "<style scoped>\n",
       "    .dataframe tbody tr th:only-of-type {\n",
       "        vertical-align: middle;\n",
       "    }\n",
       "\n",
       "    .dataframe tbody tr th {\n",
       "        vertical-align: top;\n",
       "    }\n",
       "\n",
       "    .dataframe thead th {\n",
       "        text-align: right;\n",
       "    }\n",
       "</style>\n",
       "<table border=\"1\" class=\"dataframe\">\n",
       "  <thead>\n",
       "    <tr style=\"text-align: right;\">\n",
       "      <th></th>\n",
       "      <th>PREAUTH_DATE</th>\n",
       "      <th>CLAIM_DATE</th>\n",
       "      <th>DISCHARGE_DATE</th>\n",
       "      <th>MORTALITY_DATE</th>\n",
       "      <th>SURGERY_DATE</th>\n",
       "    </tr>\n",
       "  </thead>\n",
       "  <tbody>\n",
       "    <tr>\n",
       "      <th>11</th>\n",
       "      <td>2014-07-04</td>\n",
       "      <td>2017-02-17</td>\n",
       "      <td>2014-07-09</td>\n",
       "      <td>2000-01-01</td>\n",
       "      <td>2014-07-04</td>\n",
       "    </tr>\n",
       "    <tr>\n",
       "      <th>12</th>\n",
       "      <td>2014-07-09</td>\n",
       "      <td>2017-02-17</td>\n",
       "      <td>2014-07-16</td>\n",
       "      <td>2000-01-01</td>\n",
       "      <td>2014-07-08</td>\n",
       "    </tr>\n",
       "    <tr>\n",
       "      <th>13</th>\n",
       "      <td>2014-07-10</td>\n",
       "      <td>2017-02-17</td>\n",
       "      <td>2014-07-19</td>\n",
       "      <td>2000-01-01</td>\n",
       "      <td>2014-07-10</td>\n",
       "    </tr>\n",
       "    <tr>\n",
       "      <th>14</th>\n",
       "      <td>2014-07-13</td>\n",
       "      <td>2017-02-17</td>\n",
       "      <td>2014-07-19</td>\n",
       "      <td>2000-01-01</td>\n",
       "      <td>2014-07-13</td>\n",
       "    </tr>\n",
       "    <tr>\n",
       "      <th>15</th>\n",
       "      <td>2014-07-16</td>\n",
       "      <td>2017-02-17</td>\n",
       "      <td>2014-07-21</td>\n",
       "      <td>2000-01-01</td>\n",
       "      <td>2014-07-15</td>\n",
       "    </tr>\n",
       "  </tbody>\n",
       "</table>\n",
       "</div>"
      ],
      "text/plain": [
       "   PREAUTH_DATE CLAIM_DATE DISCHARGE_DATE MORTALITY_DATE SURGERY_DATE\n",
       "11   2014-07-04 2017-02-17     2014-07-09     2000-01-01   2014-07-04\n",
       "12   2014-07-09 2017-02-17     2014-07-16     2000-01-01   2014-07-08\n",
       "13   2014-07-10 2017-02-17     2014-07-19     2000-01-01   2014-07-10\n",
       "14   2014-07-13 2017-02-17     2014-07-19     2000-01-01   2014-07-13\n",
       "15   2014-07-16 2017-02-17     2014-07-21     2000-01-01   2014-07-15"
      ]
     },
     "execution_count": 27,
     "metadata": {},
     "output_type": "execute_result"
    }
   ],
   "source": [
    "cdf[['PREAUTH_DATE','CLAIM_DATE','DISCHARGE_DATE','MORTALITY_DATE','SURGERY_DATE']].head()"
   ]
  },
  {
   "cell_type": "code",
   "execution_count": 28,
   "id": "a78960b3",
   "metadata": {},
   "outputs": [],
   "source": [
    "#cdf.drop(cdf['DISCHARGE_DATE']==pd.to_datetime('1/1/2000'), axis=1) #MORTALITY_DATE\n",
    "cdf.drop(cdf[cdf['DISCHARGE_DATE']==pd.to_datetime('2000-01-01')].index, inplace=True)\n",
    "cdf.drop(cdf[cdf['MORTALITY_DATE']==pd.to_datetime('2000-01-01')].index, inplace=True)"
   ]
  },
  {
   "cell_type": "code",
   "execution_count": 29,
   "id": "c17b2635",
   "metadata": {},
   "outputs": [],
   "source": [
    "cdf['diff'] = (pd.to_datetime(cdf.DISCHARGE_DATE) - pd.to_datetime(cdf.SURGERY_DATE)).dt.days"
   ]
  },
  {
   "cell_type": "code",
   "execution_count": 30,
   "id": "4f93c69b",
   "metadata": {},
   "outputs": [
    {
     "name": "stdout",
     "output_type": "stream",
     "text": [
      "33\n",
      "-3\n",
      "--\n"
     ]
    }
   ],
   "source": [
    "cmax = cdf['diff'].max()\n",
    "cmin = cdf['diff'].min()\n",
    "print(cmax)\n",
    "print(cmin)\n",
    "print('--')\n",
    "def range_func(diff):\n",
    "    start = cmin-5\n",
    "    for i in range(cmin,cmax+5,5):\n",
    "        ragen_str = 'range_{}_to_{}'.format(start, i-1)\n",
    "        start = i\n",
    "        if diff.days >0:\n",
    "            pass"
   ]
  },
  {
   "cell_type": "code",
   "execution_count": 31,
   "id": "fce1f497",
   "metadata": {},
   "outputs": [
    {
     "data": {
      "text/plain": [
       "numpy.int64"
      ]
     },
     "execution_count": 31,
     "metadata": {},
     "output_type": "execute_result"
    }
   ],
   "source": [
    "#cdf['diff'].apply(range_func)\n",
    "#cdf['diff'] = cdf['diff'].days\n",
    "dir(cdf['diff'])\n",
    "type(cdf['diff'].iloc[0])"
   ]
  },
  {
   "cell_type": "code",
   "execution_count": 32,
   "id": "578ff95b",
   "metadata": {},
   "outputs": [
    {
     "data": {
      "text/plain": [
       "(254, 3)"
      ]
     },
     "execution_count": 32,
     "metadata": {},
     "output_type": "execute_result"
    }
   ],
   "source": [
    "cdf[['SURGERY_DATE','DISCHARGE_DATE','diff']].shape"
   ]
  },
  {
   "cell_type": "code",
   "execution_count": 33,
   "id": "a93c5394",
   "metadata": {},
   "outputs": [],
   "source": [
    "cdf['Mortality_Flag'] = 0\n",
    "cdf['Mortality_Flag'].loc[(cdf['Mortality Y / N'] == 'YES')] = 1\n",
    "cdf['percent'] = (cdf['Mortality_Flag']/cdf.groupby(['HOSP_TYPE','diff'])['Mortality_Flag'].transform('sum'))*100\n",
    "cdf['percent'].loc[(cdf['percent'].isnull())] = 0"
   ]
  },
  {
   "cell_type": "code",
   "execution_count": 34,
   "id": "8b682b34",
   "metadata": {},
   "outputs": [],
   "source": [
    "tmp = cdf.groupby(['HOSP_TYPE', 'diff']).agg(Mortality=('percent', 'max')).sort_values('diff')"
   ]
  },
  {
   "cell_type": "code",
   "execution_count": 35,
   "id": "0ad468a0",
   "metadata": {},
   "outputs": [],
   "source": [
    "diff_by_range = pd.cut(cdf['diff'], bins=range(-5,40,5), \\\n",
    "                         right=False,labels=['-5_0_days','0_5_days','5_10_days','10_20_days','20_25_days',\n",
    "                                             '25_30_days','30_35_days','35_40_days'])"
   ]
  },
  {
   "cell_type": "code",
   "execution_count": 36,
   "id": "e0297add",
   "metadata": {},
   "outputs": [],
   "source": [
    "cdf['diff_by_range'] = diff_by_range"
   ]
  },
  {
   "cell_type": "code",
   "execution_count": 37,
   "id": "2e92bf8a",
   "metadata": {},
   "outputs": [],
   "source": [
    "tmp = cdf.groupby(['HOSP_TYPE', 'diff_by_range']).agg(Mortality=('percent', 'max')).sort_values('HOSP_TYPE')\n",
    "tmp['Mortality'].loc[(tmp['Mortality'].isnull())] = 0"
   ]
  },
  {
   "cell_type": "code",
   "execution_count": 38,
   "id": "1338bcf5",
   "metadata": {},
   "outputs": [
    {
     "data": {
      "text/html": [
       "<div>\n",
       "<style scoped>\n",
       "    .dataframe tbody tr th:only-of-type {\n",
       "        vertical-align: middle;\n",
       "    }\n",
       "\n",
       "    .dataframe tbody tr th {\n",
       "        vertical-align: top;\n",
       "    }\n",
       "\n",
       "    .dataframe thead th {\n",
       "        text-align: right;\n",
       "    }\n",
       "</style>\n",
       "<table border=\"1\" class=\"dataframe\">\n",
       "  <thead>\n",
       "    <tr style=\"text-align: right;\">\n",
       "      <th></th>\n",
       "      <th></th>\n",
       "      <th>Mortality</th>\n",
       "    </tr>\n",
       "    <tr>\n",
       "      <th>HOSP_TYPE</th>\n",
       "      <th>diff_by_range</th>\n",
       "      <th></th>\n",
       "    </tr>\n",
       "  </thead>\n",
       "  <tbody>\n",
       "    <tr>\n",
       "      <th rowspan=\"8\" valign=\"top\">C</th>\n",
       "      <th>-5_0_days</th>\n",
       "      <td>100.000000</td>\n",
       "    </tr>\n",
       "    <tr>\n",
       "      <th>0_5_days</th>\n",
       "      <td>5.263158</td>\n",
       "    </tr>\n",
       "    <tr>\n",
       "      <th>5_10_days</th>\n",
       "      <td>25.000000</td>\n",
       "    </tr>\n",
       "    <tr>\n",
       "      <th>10_20_days</th>\n",
       "      <td>100.000000</td>\n",
       "    </tr>\n",
       "    <tr>\n",
       "      <th>20_25_days</th>\n",
       "      <td>100.000000</td>\n",
       "    </tr>\n",
       "    <tr>\n",
       "      <th>25_30_days</th>\n",
       "      <td>100.000000</td>\n",
       "    </tr>\n",
       "    <tr>\n",
       "      <th>30_35_days</th>\n",
       "      <td>0.000000</td>\n",
       "    </tr>\n",
       "    <tr>\n",
       "      <th>35_40_days</th>\n",
       "      <td>100.000000</td>\n",
       "    </tr>\n",
       "    <tr>\n",
       "      <th rowspan=\"8\" valign=\"top\">G</th>\n",
       "      <th>-5_0_days</th>\n",
       "      <td>100.000000</td>\n",
       "    </tr>\n",
       "    <tr>\n",
       "      <th>0_5_days</th>\n",
       "      <td>50.000000</td>\n",
       "    </tr>\n",
       "    <tr>\n",
       "      <th>5_10_days</th>\n",
       "      <td>100.000000</td>\n",
       "    </tr>\n",
       "    <tr>\n",
       "      <th>10_20_days</th>\n",
       "      <td>100.000000</td>\n",
       "    </tr>\n",
       "    <tr>\n",
       "      <th>20_25_days</th>\n",
       "      <td>0.000000</td>\n",
       "    </tr>\n",
       "    <tr>\n",
       "      <th>25_30_days</th>\n",
       "      <td>0.000000</td>\n",
       "    </tr>\n",
       "    <tr>\n",
       "      <th>30_35_days</th>\n",
       "      <td>0.000000</td>\n",
       "    </tr>\n",
       "    <tr>\n",
       "      <th>35_40_days</th>\n",
       "      <td>0.000000</td>\n",
       "    </tr>\n",
       "  </tbody>\n",
       "</table>\n",
       "</div>"
      ],
      "text/plain": [
       "                          Mortality\n",
       "HOSP_TYPE diff_by_range            \n",
       "C         -5_0_days      100.000000\n",
       "          0_5_days         5.263158\n",
       "          5_10_days       25.000000\n",
       "          10_20_days     100.000000\n",
       "          20_25_days     100.000000\n",
       "          25_30_days     100.000000\n",
       "          30_35_days       0.000000\n",
       "          35_40_days     100.000000\n",
       "G         -5_0_days      100.000000\n",
       "          0_5_days        50.000000\n",
       "          5_10_days      100.000000\n",
       "          10_20_days     100.000000\n",
       "          20_25_days       0.000000\n",
       "          25_30_days       0.000000\n",
       "          30_35_days       0.000000\n",
       "          35_40_days       0.000000"
      ]
     },
     "execution_count": 38,
     "metadata": {},
     "output_type": "execute_result"
    }
   ],
   "source": [
    "tmp"
   ]
  },
  {
   "cell_type": "markdown",
   "id": "5926fe23",
   "metadata": {},
   "source": [
    "## Company wants to identify most common source of registration through which patients got registered for surgeries across different hospitals to improve marketing strategy of hospitals"
   ]
  },
  {
   "cell_type": "code",
   "execution_count": 39,
   "id": "69f9e092",
   "metadata": {},
   "outputs": [
    {
     "data": {
      "text/plain": [
       "Patient_ID          0\n",
       "AGE                 0\n",
       "SEX                 0\n",
       "CATEGORY_CODE       0\n",
       "CATEGORY_NAME       0\n",
       "SURGERY_CODE        0\n",
       "SURGERY             0\n",
       "VILLAGE             0\n",
       "DISTRICT_NAME       0\n",
       "PREAUTH_DATE        0\n",
       "PREAUTH_AMT         0\n",
       "CLAIM_DATE          0\n",
       "CLAIM_AMOUNT        0\n",
       "HOSP_TYPE           0\n",
       "HOSP_NAME           0\n",
       "HOSP_LOCATION       0\n",
       "HOSP_DISTRICT       0\n",
       "SURGERY_DATE        0\n",
       "DISCHARGE_DATE      0\n",
       "Mortality Y / N     0\n",
       "MORTALITY_DATE      0\n",
       "SRC_REGISTRATION    0\n",
       "Mortality_Flag      0\n",
       "percent             0\n",
       "dtype: int64"
      ]
     },
     "execution_count": 39,
     "metadata": {},
     "output_type": "execute_result"
    }
   ],
   "source": [
    "df.isnull().sum()"
   ]
  },
  {
   "cell_type": "code",
   "execution_count": 40,
   "id": "c3a406db",
   "metadata": {},
   "outputs": [
    {
     "name": "stdout",
     "output_type": "stream",
     "text": [
      "D      77876\n",
      "CMO     6280\n",
      "P       4326\n",
      "MC      1517\n",
      "0          1\n",
      "Name: SRC_REGISTRATION, dtype: int64\n"
     ]
    },
    {
     "data": {
      "image/png": "[encoded data removed]",
      "text/plain": [
       "<Figure size 1440x360 with 1 Axes>"
      ]
     },
     "metadata": {
      "needs_background": "light"
     },
     "output_type": "display_data"
    }
   ],
   "source": [
    "df['SRC_REGISTRATION']\n",
    "df['SRC_REGISTRATION'].value_counts().sort_values(ascending=False).plot.bar(figsize=(20,5), fontsize=12);\n",
    "plt.xlabel('# of Age', fontsize=10)\n",
    "plt.ylabel('# of Count', fontsize=10)\n",
    "plt.title('Distribution of Age Counts', fontsize=10)\n",
    "\n",
    "print(df['SRC_REGISTRATION'].value_counts().sort_values(ascending=False))"
   ]
  },
  {
   "cell_type": "markdown",
   "id": "201f93c0",
   "metadata": {},
   "source": [
    "## District level hospital needs to submit patient details to insurance company, the Medi-life company needs to generate PDF files having details of each patient about its tenure in hospital, claims details, surgery details, hospital info on daily basis."
   ]
  },
  {
   "cell_type": "code",
   "execution_count": 58,
   "id": "281c207e",
   "metadata": {},
   "outputs": [
    {
     "name": "stdout",
     "output_type": "stream",
     "text": [
      "   Patient_ID  AGE     SEX CATEGORY_CODE CATEGORY_NAME SURGERY_CODE  \\\n",
      "0           1   56  Female            M6    NEPHROLOGY         M6.5   \n",
      "\n",
      "                            SURGERY VILLAGE DISTRICT_NAME PREAUTH_DATE  ...  \\\n",
      "0  Maintenance Hemodialysis For Crf  Lolugu    Srikakulam   2013-08-03  ...   \n",
      "\n",
      "   HOSP_LOCATION HOSP_DISTRICT  SURGERY_DATE DISCHARGE_DATE Mortality Y / N  \\\n",
      "0     SRIKAKULAM    Srikakulam    2013-08-06     2013-09-07              NO   \n",
      "\n",
      "  MORTALITY_DATE SRC_REGISTRATION Mortality_Flag percent    diff  \n",
      "0     2000-01-01                D              0     0.0 32 days  \n",
      "\n",
      "[1 rows x 25 columns]\n",
      "11000\n",
      "0    11000\n",
      "Name: CLAIM_AMOUNT, dtype: int64\n",
      "0    Maintenance Hemodialysis For Crf\n",
      "Name: SURGERY, dtype: object\n"
     ]
    }
   ],
   "source": [
    "for patient_id in df['Patient_ID']:\n",
    "    record_df = df[df['Patient_ID']==patient_id]\n",
    "    record_df['diff'] = pd.to_datetime(record_df.DISCHARGE_DATE) - pd.to_datetime(record_df.SURGERY_DATE)\n",
    "    amount = record_df['CLAIM_AMOUNT'].sum()\n",
    "    surgery_details = record_df['SURGERY']\n",
    "    print(record_df)\n",
    "    print(amount)\n",
    "    print(record_df['CLAIM_AMOUNT'])\n",
    "    print(surgery_details)\n",
    "    break"
   ]
  },
  {
   "cell_type": "markdown",
   "id": "ce85cb70",
   "metadata": {},
   "source": [
    "## Company wants to generate monthly report based on revenue of each hospital and number patients admitted across different district with respect to different surgery category type for hospital financial analysis."
   ]
  },
  {
   "cell_type": "code",
   "execution_count": 59,
   "id": "6f26391c",
   "metadata": {},
   "outputs": [
    {
     "data": {
      "text/html": [
       "<div>\n",
       "<style scoped>\n",
       "    .dataframe tbody tr th:only-of-type {\n",
       "        vertical-align: middle;\n",
       "    }\n",
       "\n",
       "    .dataframe tbody tr th {\n",
       "        vertical-align: top;\n",
       "    }\n",
       "\n",
       "    .dataframe thead th {\n",
       "        text-align: right;\n",
       "    }\n",
       "</style>\n",
       "<table border=\"1\" class=\"dataframe\">\n",
       "  <thead>\n",
       "    <tr style=\"text-align: right;\">\n",
       "      <th></th>\n",
       "      <th>Patient_ID</th>\n",
       "      <th>AGE</th>\n",
       "      <th>SEX</th>\n",
       "      <th>CATEGORY_CODE</th>\n",
       "      <th>CATEGORY_NAME</th>\n",
       "      <th>SURGERY_CODE</th>\n",
       "      <th>SURGERY</th>\n",
       "      <th>VILLAGE</th>\n",
       "      <th>DISTRICT_NAME</th>\n",
       "      <th>PREAUTH_DATE</th>\n",
       "      <th>...</th>\n",
       "      <th>HOSP_LOCATION</th>\n",
       "      <th>HOSP_DISTRICT</th>\n",
       "      <th>SURGERY_DATE</th>\n",
       "      <th>DISCHARGE_DATE</th>\n",
       "      <th>Mortality Y / N</th>\n",
       "      <th>MORTALITY_DATE</th>\n",
       "      <th>SRC_REGISTRATION</th>\n",
       "      <th>Mortality_Flag</th>\n",
       "      <th>percent</th>\n",
       "      <th>diff</th>\n",
       "    </tr>\n",
       "  </thead>\n",
       "  <tbody>\n",
       "    <tr>\n",
       "      <th>0</th>\n",
       "      <td>1</td>\n",
       "      <td>56</td>\n",
       "      <td>Female</td>\n",
       "      <td>M6</td>\n",
       "      <td>NEPHROLOGY</td>\n",
       "      <td>M6.5</td>\n",
       "      <td>Maintenance Hemodialysis For Crf</td>\n",
       "      <td>Lolugu</td>\n",
       "      <td>Srikakulam</td>\n",
       "      <td>2013-08-03</td>\n",
       "      <td>...</td>\n",
       "      <td>SRIKAKULAM</td>\n",
       "      <td>Srikakulam</td>\n",
       "      <td>2013-08-06</td>\n",
       "      <td>2013-09-07</td>\n",
       "      <td>NO</td>\n",
       "      <td>2000-01-01</td>\n",
       "      <td>D</td>\n",
       "      <td>0</td>\n",
       "      <td>0.0</td>\n",
       "      <td>NaN</td>\n",
       "    </tr>\n",
       "  </tbody>\n",
       "</table>\n",
       "<p>1 rows × 25 columns</p>\n",
       "</div>"
      ],
      "text/plain": [
       "   Patient_ID  AGE     SEX CATEGORY_CODE CATEGORY_NAME SURGERY_CODE  \\\n",
       "0           1   56  Female            M6    NEPHROLOGY         M6.5   \n",
       "\n",
       "                            SURGERY VILLAGE DISTRICT_NAME PREAUTH_DATE  ...  \\\n",
       "0  Maintenance Hemodialysis For Crf  Lolugu    Srikakulam   2013-08-03  ...   \n",
       "\n",
       "   HOSP_LOCATION HOSP_DISTRICT  SURGERY_DATE DISCHARGE_DATE Mortality Y / N  \\\n",
       "0     SRIKAKULAM    Srikakulam    2013-08-06     2013-09-07              NO   \n",
       "\n",
       "  MORTALITY_DATE SRC_REGISTRATION Mortality_Flag percent diff  \n",
       "0     2000-01-01                D              0     0.0  NaN  \n",
       "\n",
       "[1 rows x 25 columns]"
      ]
     },
     "execution_count": 59,
     "metadata": {},
     "output_type": "execute_result"
    }
   ],
   "source": [
    "df"
   ]
  },
  {
   "cell_type": "code",
   "execution_count": null,
   "id": "29b33c39",
   "metadata": {},
   "outputs": [],
   "source": []
  }
 ],
 "metadata": {
  "kernelspec": {
   "display_name": "Python 3",
   "language": "python",
   "name": "python3"
  },
  "language_info": {
   "codemirror_mode": {
    "name": "ipython",
    "version": 3
   },
   "file_extension": ".py",
   "mimetype": "text/x-python",
   "name": "python",
   "nbconvert_exporter": "python",
   "pygments_lexer": "ipython3",
   "version": "3.8.8"
  }
 },
 "nbformat": 4,
 "nbformat_minor": 5
}
